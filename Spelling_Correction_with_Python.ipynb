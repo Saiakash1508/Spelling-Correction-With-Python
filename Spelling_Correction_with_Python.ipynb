{
  "nbformat": 4,
  "nbformat_minor": 0,
  "metadata": {
    "colab": {
      "provenance": [],
      "authorship_tag": "ABX9TyOVmak+lsjsJLDDB95ai+ym",
      "include_colab_link": true
    },
    "kernelspec": {
      "name": "python3",
      "display_name": "Python 3"
    },
    "language_info": {
      "name": "python"
    }
  },
  "cells": [
    {
      "cell_type": "markdown",
      "metadata": {
        "id": "view-in-github",
        "colab_type": "text"
      },
      "source": [
        "<a href=\"https://colab.research.google.com/github/Saiakash1508/Spelling-Correction-With-Python/blob/main/Spelling_Correction_with_Python.ipynb\" target=\"_parent\"><img src=\"https://colab.research.google.com/assets/colab-badge.svg\" alt=\"Open In Colab\"/></a>"
      ]
    },
    {
      "cell_type": "markdown",
      "source": [
        "# **Spelling Correction with Python**"
      ],
      "metadata": {
        "id": "m5VzCQ42ibUb"
      }
    },
    {
      "cell_type": "markdown",
      "source": [
        "Correcting spelling mistakes is an integral part of writing in the modern world, whether it is part of texting a phone, sending an email, writing large documents or searching for information on the web.\n",
        "\n",
        "Modern spelling correctors aren’t perfect (indeed, automatic error correction is a popular source of fun on the web), but they’re ubiquitous in just about all software that relies on keyboard input.\n",
        "\n",
        "Spelling correction is often viewed from two angles. Non-word spell check is the detection and correction of spelling mistakes that result in non-words. In contrast, real word spell checking involves detecting and correcting misspellings even if they accidentally result in a real English word (real word errors).\n",
        "\n",
        "This can come from typographical errors of real-word errors (insertion, deletion, transposition) that accidentally produce a real word, or from cognitive errors where the writer substituted the wrong one.\n"
      ],
      "metadata": {
        "id": "ZKOK_GhViL0e"
      }
    },
    {
      "cell_type": "code",
      "execution_count": 10,
      "metadata": {
        "colab": {
          "base_uri": "https://localhost:8080/"
        },
        "id": "fV141yuqdLsA",
        "outputId": "13172a49-fb79-4ed0-9b7f-9909d81ecd1d"
      },
      "outputs": [
        {
          "output_type": "stream",
          "name": "stdout",
          "text": [
            "Wrong words : ['Data Scence', 'Mahine Learnin']\n",
            "Corrected Words are :\n",
            "Data Science Machine Learning "
          ]
        }
      ],
      "source": [
        "from textblob import TextBlob\n",
        "words = [\"Data Scence\", \"Mahine Learnin\"]\n",
        "corrected_words = []\n",
        "for i in words:\n",
        "    corrected_words.append(TextBlob(i))\n",
        "print(\"Wrong words :\", words)\n",
        "print(\"Corrected Words are :\")\n",
        "for i in corrected_words:\n",
        "    print(i.correct(), end=\" \")"
      ]
    },
    {
      "cell_type": "markdown",
      "source": [
        "**Summary** \n",
        "\n",
        "With the use of textblob library in Python, we can easily create Machine Learning Models for the task of Spelling Corrections. Detecting actual word spelling errors is a much more difficult task, as any word in the input text can be an error. \n",
        "\n",
        "However, it is possible to use the noisy channel to find candidates for every word the user typed and rank the correction that was probably the user’s original intention."
      ],
      "metadata": {
        "id": "KAFypBo7ij23"
      }
    }
  ]
}